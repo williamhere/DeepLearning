{
  "cells": [
    {
      "cell_type": "markdown",
      "metadata": {
        "id": "8Wu9soQhCLKz"
      },
      "source": [
        "## Run Img"
      ]
    },
    {
      "cell_type": "code",
      "source": [
        "from google.colab import drive\n",
        "drive.mount('/content/drive')"
      ],
      "metadata": {
        "id": "ixmBx6hfCO2w"
      },
      "execution_count": null,
      "outputs": []
    },
    {
      "cell_type": "code",
      "execution_count": null,
      "metadata": {
        "id": "mUtYD7MzCLK2"
      },
      "outputs": [],
      "source": [
        "import tensorflow as tf\n",
        "import cv2 as cv\n",
        "import numpy as np\n",
        "import glob\n",
        "\n",
        "tf.compat.v1.reset_default_graph()\n",
        "interpreter = tf.lite.Interpreter('/content/drive/MyDrive/Colab Notebooks/efficientdet/export/efficientdet.tflite') # 讀取 .tflite 模型\n",
        "interpreter.allocate_tensors()                                   # 初始化模型\n",
        " \n",
        "input_details = interpreter.get_input_details()                  # 獲取輸入點訊息\n",
        "output_details = interpreter.get_output_details()                # 獲取輸出點訊息\n",
        "\n",
        "\n",
        "w,h,c=input_details[0]['shape'][1:4]           # 獲取輸入圖片大小\n",
        "img_file='/content/drive/MyDrive/Colab Notebooks/efficientdet/20201110_222144_002.jpg' # 一個圖片路徑\n",
        "imgc = 0\n",
        "Pred = 0\n",
        "\n",
        "\n",
        "img=cv.imread(img_file)                        # 讀取圖片\n",
        "img=img.astype(np.uint8)                       # 轉整數\n",
        "img=cv.resize(img,(w,h))                       # 調整圖片大小\n",
        "img=cv.cvtColor(img,cv.COLOR_BGR2RGB)          # BGR to RGB\n",
        "img=img.reshape((w,h,c))                       # 調整陣列大小\n",
        "img=np.expand_dims(img,0)                      # 轉 4D 陣列\n",
        "\n",
        "interpreter.set_tensor(input_details[0]['index'], img)                 # 輸入資料到模型\n",
        "interpreter.invoke()                                                   # 模型計算輸出\n",
        "\n",
        "detection_scores = interpreter.get_tensor(output_details[0]['index']) # 獲取輸出各框的得分\n",
        "detection_boxes = interpreter.get_tensor(output_details[1]['index']) # 獲取輸出框座鰾 (百分比)\n",
        "num_boxes = interpreter.get_tensor(output_details[2]['index'])  # 獲取輸出總框數量\n",
        "detection_classes = interpreter.get_tensor(output_details[3]['index']) # 輸出框類別 \n",
        "\n",
        "#print(detection_scores)\n",
        "\n",
        "num_boxes=int(num_boxes[0])                                                   # 取得整數值\n",
        "detection_boxes=detection_boxes.reshape(num_boxes,4)                          # 調整陣列為10x4大小\n",
        "detection_classes=detection_classes.astype(dtype=np.int).reshape(num_boxes)+1 # 類別為整數值 (+1跳過背景類)\n",
        "detection_scores=detection_scores.reshape(num_boxes)                          # 調整陣列為10大小\n",
        "#print(detection_boxes)              #框座標\n",
        "#print(detection_classes)            #各個框類別\n",
        "#print(detection_scores)             #框分數\n",
        "#print(num_boxes)                    #總共的框\n",
        "# 讀取圖片並畫框\n",
        "\n",
        "outimg=cv.imread(img_file)\n",
        "for i in range(0,num_boxes):\n",
        "    # 把百分比座標轉為實際圖片座標\n",
        "    detection_boxes[i,0]=int(detection_boxes[i,0]*outimg.shape[0])\n",
        "    detection_boxes[i,1]=int(detection_boxes[i,1]*outimg.shape[1])\n",
        "    detection_boxes[i,2]=int(detection_boxes[i,2]*outimg.shape[0])\n",
        "    detection_boxes[i,3]=int(detection_boxes[i,3]*outimg.shape[1])\n",
        "    # 得分大於 0.5 (可自行調整) 才畫出框及文字敘述\n",
        "\n",
        "    if detection_scores[i]>0.5:\n",
        "        outimg=cv.rectangle(outimg, (int(detection_boxes[i,1]), int(detection_boxes[i,0])), (int(detection_boxes[i,3]), int(detection_boxes[i,2])), (0,0,255),2)\n",
        "        if detection_classes[i] ==1:\n",
        "            ID = 'Mouse'\n",
        "        elif detection_classes[i] ==2:\n",
        "            ID = 'Keyboard'\n",
        "        elif detection_classes[i] ==3:\n",
        "            ID = 'Screen'\n",
        "        outimg=cv.putText(outimg,'ID: %s'%(ID), (int(detection_boxes[i,1]),int(detection_boxes[i,0]-3)),cv.FONT_HERSHEY_COMPLEX  ,1.5,(0,0,0),2)\n",
        "\n",
        "cv.imwrite('out.jpg',outimg)\n",
        "'''      \n",
        "cv.imshow('out', outimg)\n",
        "key = cv.waitKey(0)\n",
        "if key>0:\n",
        "    cv.destroyAllWindows()\n",
        "'''"
      ]
    },
    {
      "cell_type": "code",
      "source": [],
      "metadata": {
        "id": "_Im6TfysyHZl"
      },
      "execution_count": null,
      "outputs": []
    }
  ],
  "metadata": {
    "kernelspec": {
      "display_name": "Python 3 (ipykernel)",
      "language": "python",
      "name": "python3"
    },
    "language_info": {
      "codemirror_mode": {
        "name": "ipython",
        "version": 3
      },
      "file_extension": ".py",
      "mimetype": "text/x-python",
      "name": "python",
      "nbconvert_exporter": "python",
      "pygments_lexer": "ipython3",
      "version": "3.7.11"
    },
    "colab": {
      "provenance": []
    }
  },
  "nbformat": 4,
  "nbformat_minor": 0
}