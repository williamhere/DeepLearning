{
  "nbformat": 4,
  "nbformat_minor": 0,
  "metadata": {
    "colab": {
      "provenance": []
    },
    "kernelspec": {
      "name": "python3",
      "display_name": "Python 3"
    },
    "language_info": {
      "name": "python"
    }
  },
  "cells": [
    {
      "cell_type": "code",
      "execution_count": null,
      "metadata": {
        "id": "_owjpR8SmSgk"
      },
      "outputs": [],
      "source": [
        "import cv2 as cv\n",
        "import glob \n",
        "#下面放新拍的圖片路徑 (test)\n",
        "file = glob.glob('/content/test/*')\n",
        "print(file)\n",
        "count = 0\n",
        "for i in file:\n",
        "    count += 1\n",
        "    print(i)\n",
        "    img = cv.imread(i)\n",
        "    img1 = cv.resize(img, (640, 480), interpolation = cv.INTER_AREA)\n",
        "    #下面要放你的輸出路徑 (new)\n",
        "    cv.imwrite(('/content/new/'+str(count)+'.jpg'), img1)\n"
      ]
    }
  ]
}