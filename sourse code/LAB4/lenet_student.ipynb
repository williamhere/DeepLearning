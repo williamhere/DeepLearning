{
 "cells": [
  {
   "cell_type": "code",
   "execution_count": 2,
   "metadata": {},
   "outputs": [
    {
     "data": {
      "text/plain": [
       "'1.15.0'"
      ]
     },
     "execution_count": 2,
     "metadata": {},
     "output_type": "execute_result"
    }
   ],
   "source": [
    "import tensorflow as tf \n",
    "import numpy as np\n",
    "\n",
    "tf.__version__"
   ]
  },
  {
   "cell_type": "code",
   "execution_count": 6,
   "metadata": {},
   "outputs": [
    {
     "name": "stdout",
     "output_type": "stream",
     "text": [
      "ok\n"
     ]
    }
   ],
   "source": [
    "num_class = 10 \n",
    "batch_size = 2048\n",
    "epochs = 100\n",
    "iterations = 30\n",
    "\n",
    "(x_train, y_train), (x_test, y_test) = tf.keras.datasets.mnist.load_data()\n",
    "\n",
    "x_train = x_train / 255\n",
    "x_test = x_test / 255\n",
    "x_train = x_train.astype('float32')\n",
    "x_test = x_test.astype('float32')\n",
    "x_train = np.reshape(x_train, (x_train.shape[0], x_train.shape[1], x_train.shape[2], 1))  #(60000,28,28,1)\n",
    "x_test = np.reshape(x_test, (x_test.shape[0], x_test.shape[1], x_test.shape[2], 1))  #(10000, 28, 28, 1)\n",
    "y_train = tf.keras.utils.to_categorical(y_train, 10)\n",
    "y_test = tf.keras.utils.to_categorical(y_test, 10)\n",
    "\n",
    "print('ok')\n"
   ]
  },
  {
   "cell_type": "code",
   "execution_count": 7,
   "metadata": {},
   "outputs": [
    {
     "name": "stdout",
     "output_type": "stream",
     "text": [
      "ok\n"
     ]
    }
   ],
   "source": []
  },
  {
   "cell_type": "code",
   "execution_count": null,
   "metadata": {},
   "outputs": [],
   "source": []
  },
  {
   "cell_type": "code",
   "execution_count": 5,
   "metadata": {
    "scrolled": true
   },
   "outputs": [
    {
     "name": "stdout",
     "output_type": "stream",
     "text": [
      "WARNING:tensorflow:When passing input data as arrays, do not specify `steps_per_epoch`/`steps` argument. Please use `batch_size` instead.\n",
      "Train on 30 samples, validate on 10000 samples\n",
      "Epoch 1/100\n",
      "30/30 [==============================] - 7s 247ms/step - loss: 2.2518 - acc: 0.1771 - val_loss: 2.2044 - val_acc: 0.2637\n",
      "Epoch 2/100\n",
      "30/30 [==============================] - 4s 142ms/step - loss: 2.1449 - acc: 0.3843 - val_loss: 2.0673 - val_acc: 0.4934\n",
      "Epoch 3/100\n",
      "30/30 [==============================] - 4s 142ms/step - loss: 1.9677 - acc: 0.5551 - val_loss: 1.8354 - val_acc: 0.6147\n",
      "Epoch 4/100\n",
      "30/30 [==============================] - 4s 142ms/step - loss: 1.6930 - acc: 0.6480 - val_loss: 1.5124 - val_acc: 0.7012\n",
      "Epoch 5/100\n",
      "30/30 [==============================] - 4s 142ms/step - loss: 1.3687 - acc: 0.7159 - val_loss: 1.1897 - val_acc: 0.7610\n",
      "Epoch 6/100\n",
      "30/30 [==============================] - 4s 141ms/step - loss: 1.0910 - acc: 0.7631 - val_loss: 0.9509 - val_acc: 0.7982\n",
      "Epoch 7/100\n",
      "30/30 [==============================] - 4s 142ms/step - loss: 0.9001 - acc: 0.7921 - val_loss: 0.7973 - val_acc: 0.8179\n",
      "Epoch 8/100\n",
      "30/30 [==============================] - 4s 142ms/step - loss: 0.7777 - acc: 0.8110 - val_loss: 0.6990 - val_acc: 0.8327\n",
      "Epoch 9/100\n",
      "30/30 [==============================] - 4s 142ms/step - loss: 0.6971 - acc: 0.8243 - val_loss: 0.6331 - val_acc: 0.8436\n",
      "Epoch 10/100\n",
      "30/30 [==============================] - 4s 143ms/step - loss: 0.6411 - acc: 0.8340 - val_loss: 0.5861 - val_acc: 0.8513\n",
      "Epoch 11/100\n",
      "30/30 [==============================] - 4s 142ms/step - loss: 0.5997 - acc: 0.8412 - val_loss: 0.5508 - val_acc: 0.8584\n",
      "Epoch 12/100\n",
      "30/30 [==============================] - 4s 142ms/step - loss: 0.5677 - acc: 0.8473 - val_loss: 0.5230 - val_acc: 0.8632\n",
      "Epoch 13/100\n",
      "30/30 [==============================] - 4s 146ms/step - loss: 0.5420 - acc: 0.8522 - val_loss: 0.5004 - val_acc: 0.8680\n",
      "Epoch 14/100\n",
      "30/30 [==============================] - 4s 150ms/step - loss: 0.5206 - acc: 0.8568 - val_loss: 0.4815 - val_acc: 0.8723\n",
      "Epoch 15/100\n",
      "30/30 [==============================] - 5s 150ms/step - loss: 0.5025 - acc: 0.8612 - val_loss: 0.4654 - val_acc: 0.8759\n",
      "Epoch 16/100\n",
      "30/30 [==============================] - 4s 144ms/step - loss: 0.4869 - acc: 0.8650 - val_loss: 0.4514 - val_acc: 0.8786\n",
      "Epoch 17/100\n",
      "30/30 [==============================] - 4s 141ms/step - loss: 0.4732 - acc: 0.8677 - val_loss: 0.4391 - val_acc: 0.8808\n",
      "Epoch 18/100\n",
      "30/30 [==============================] - 4s 142ms/step - loss: 0.4611 - acc: 0.8706 - val_loss: 0.4282 - val_acc: 0.8828\n",
      "Epoch 19/100\n",
      "30/30 [==============================] - 4s 141ms/step - loss: 0.4503 - acc: 0.8727 - val_loss: 0.4185 - val_acc: 0.8845\n",
      "Epoch 20/100\n",
      "30/30 [==============================] - 4s 143ms/step - loss: 0.4406 - acc: 0.8747 - val_loss: 0.4097 - val_acc: 0.8864\n",
      "Epoch 21/100\n",
      "30/30 [==============================] - 4s 145ms/step - loss: 0.4318 - acc: 0.8767 - val_loss: 0.4018 - val_acc: 0.8882\n",
      "Epoch 22/100\n",
      "30/30 [==============================] - 4s 144ms/step - loss: 0.4238 - acc: 0.8786 - val_loss: 0.3945 - val_acc: 0.8899\n",
      "Epoch 23/100\n",
      "30/30 [==============================] - 5s 150ms/step - loss: 0.4165 - acc: 0.8807 - val_loss: 0.3879 - val_acc: 0.8913\n",
      "Epoch 24/100\n",
      "30/30 [==============================] - 4s 150ms/step - loss: 0.4098 - acc: 0.8827 - val_loss: 0.3818 - val_acc: 0.8929\n",
      "Epoch 25/100\n",
      "30/30 [==============================] - 4s 144ms/step - loss: 0.4036 - acc: 0.8841 - val_loss: 0.3761 - val_acc: 0.8941\n",
      "Epoch 26/100\n",
      "30/30 [==============================] - 4s 142ms/step - loss: 0.3979 - acc: 0.8856 - val_loss: 0.3709 - val_acc: 0.8951\n",
      "Epoch 27/100\n",
      "30/30 [==============================] - 4s 143ms/step - loss: 0.3926 - acc: 0.8869 - val_loss: 0.3661 - val_acc: 0.8968\n",
      "Epoch 28/100\n",
      "30/30 [==============================] - 4s 143ms/step - loss: 0.3876 - acc: 0.8882 - val_loss: 0.3615 - val_acc: 0.8976\n",
      "Epoch 29/100\n",
      "30/30 [==============================] - 4s 144ms/step - loss: 0.3830 - acc: 0.8893 - val_loss: 0.3573 - val_acc: 0.8989\n",
      "Epoch 30/100\n",
      "30/30 [==============================] - 4s 144ms/step - loss: 0.3787 - acc: 0.8904 - val_loss: 0.3533 - val_acc: 0.8999\n",
      "Epoch 31/100\n",
      "30/30 [==============================] - 4s 145ms/step - loss: 0.3746 - acc: 0.8916 - val_loss: 0.3496 - val_acc: 0.9003\n",
      "Epoch 32/100\n",
      "30/30 [==============================] - 4s 144ms/step - loss: 0.3708 - acc: 0.8926 - val_loss: 0.3461 - val_acc: 0.9008\n",
      "Epoch 33/100\n",
      "30/30 [==============================] - 4s 142ms/step - loss: 0.3672 - acc: 0.8937 - val_loss: 0.3427 - val_acc: 0.9016\n",
      "Epoch 34/100\n",
      "30/30 [==============================] - 4s 143ms/step - loss: 0.3638 - acc: 0.8948 - val_loss: 0.3396 - val_acc: 0.9025\n",
      "Epoch 35/100\n",
      "30/30 [==============================] - 4s 147ms/step - loss: 0.3605 - acc: 0.8958 - val_loss: 0.3366 - val_acc: 0.9038\n",
      "Epoch 36/100\n",
      "30/30 [==============================] - 5s 150ms/step - loss: 0.3574 - acc: 0.8968 - val_loss: 0.3337 - val_acc: 0.9041\n",
      "Epoch 37/100\n",
      "30/30 [==============================] - 4s 143ms/step - loss: 0.3544 - acc: 0.8978 - val_loss: 0.3309 - val_acc: 0.9052\n",
      "Epoch 38/100\n",
      "30/30 [==============================] - 4s 146ms/step - loss: 0.3515 - acc: 0.8985 - val_loss: 0.3283 - val_acc: 0.9058\n",
      "Epoch 39/100\n",
      "30/30 [==============================] - 5s 150ms/step - loss: 0.3488 - acc: 0.8994 - val_loss: 0.3258 - val_acc: 0.9065\n",
      "Epoch 40/100\n",
      "30/30 [==============================] - 5s 150ms/step - loss: 0.3461 - acc: 0.9000 - val_loss: 0.3233 - val_acc: 0.9071\n",
      "Epoch 41/100\n",
      "30/30 [==============================] - 4s 148ms/step - loss: 0.3436 - acc: 0.9007 - val_loss: 0.3210 - val_acc: 0.9083\n",
      "Epoch 42/100\n",
      "17/30 [================>.............] - ETA: 1s - loss: 0.3417 - acc: 0.9011"
     ]
    },
    {
     "ename": "KeyboardInterrupt",
     "evalue": "",
     "output_type": "error",
     "traceback": [
      "\u001b[1;31m---------------------------------------------------------------------------\u001b[0m",
      "\u001b[1;31mKeyboardInterrupt\u001b[0m                         Traceback (most recent call last)",
      "\u001b[1;32m~\\AppData\\Local\\Temp/ipykernel_26788/509934054.py\u001b[0m in \u001b[0;36m<module>\u001b[1;34m\u001b[0m\n\u001b[0;32m      2\u001b[0m \u001b[0mmodel\u001b[0m\u001b[1;33m.\u001b[0m\u001b[0mcompile\u001b[0m\u001b[1;33m(\u001b[0m\u001b[0moptimizer\u001b[0m\u001b[1;33m=\u001b[0m\u001b[0msgd\u001b[0m\u001b[1;33m,\u001b[0m \u001b[0mloss\u001b[0m\u001b[1;33m=\u001b[0m\u001b[1;34m'categorical_crossentropy'\u001b[0m\u001b[1;33m,\u001b[0m \u001b[0mmetrics\u001b[0m\u001b[1;33m=\u001b[0m\u001b[1;33m[\u001b[0m\u001b[1;34m'accuracy'\u001b[0m\u001b[1;33m]\u001b[0m\u001b[1;33m)\u001b[0m\u001b[1;33m\u001b[0m\u001b[1;33m\u001b[0m\u001b[0m\n\u001b[0;32m      3\u001b[0m \u001b[1;33m\u001b[0m\u001b[0m\n\u001b[1;32m----> 4\u001b[1;33m \u001b[0mhistory\u001b[0m \u001b[1;33m=\u001b[0m \u001b[0mmodel\u001b[0m\u001b[1;33m.\u001b[0m\u001b[0mfit\u001b[0m\u001b[1;33m(\u001b[0m\u001b[0mx\u001b[0m\u001b[1;33m=\u001b[0m\u001b[0mx_train\u001b[0m\u001b[1;33m,\u001b[0m \u001b[0my\u001b[0m\u001b[1;33m=\u001b[0m\u001b[0my_train\u001b[0m\u001b[1;33m,\u001b[0m \u001b[0mbatch_size\u001b[0m\u001b[1;33m=\u001b[0m\u001b[0mbatch_size\u001b[0m\u001b[1;33m,\u001b[0m \u001b[0mepochs\u001b[0m\u001b[1;33m=\u001b[0m\u001b[0mepochs\u001b[0m\u001b[1;33m,\u001b[0m \u001b[0msteps_per_epoch\u001b[0m\u001b[1;33m=\u001b[0m\u001b[0miterations\u001b[0m\u001b[1;33m,\u001b[0m \u001b[0mvalidation_data\u001b[0m\u001b[1;33m=\u001b[0m\u001b[1;33m(\u001b[0m\u001b[0mx_test\u001b[0m\u001b[1;33m,\u001b[0m \u001b[0my_test\u001b[0m\u001b[1;33m)\u001b[0m\u001b[1;33m)\u001b[0m\u001b[1;33m\u001b[0m\u001b[1;33m\u001b[0m\u001b[0m\n\u001b[0m",
      "\u001b[1;32m~\\anaconda3\\envs\\lenet2\\lib\\site-packages\\tensorflow_core\\python\\keras\\engine\\training.py\u001b[0m in \u001b[0;36mfit\u001b[1;34m(self, x, y, batch_size, epochs, verbose, callbacks, validation_split, validation_data, shuffle, class_weight, sample_weight, initial_epoch, steps_per_epoch, validation_steps, validation_freq, max_queue_size, workers, use_multiprocessing, **kwargs)\u001b[0m\n\u001b[0;32m    725\u001b[0m         \u001b[0mmax_queue_size\u001b[0m\u001b[1;33m=\u001b[0m\u001b[0mmax_queue_size\u001b[0m\u001b[1;33m,\u001b[0m\u001b[1;33m\u001b[0m\u001b[1;33m\u001b[0m\u001b[0m\n\u001b[0;32m    726\u001b[0m         \u001b[0mworkers\u001b[0m\u001b[1;33m=\u001b[0m\u001b[0mworkers\u001b[0m\u001b[1;33m,\u001b[0m\u001b[1;33m\u001b[0m\u001b[1;33m\u001b[0m\u001b[0m\n\u001b[1;32m--> 727\u001b[1;33m         use_multiprocessing=use_multiprocessing)\n\u001b[0m\u001b[0;32m    728\u001b[0m \u001b[1;33m\u001b[0m\u001b[0m\n\u001b[0;32m    729\u001b[0m   def evaluate(self,\n",
      "\u001b[1;32m~\\anaconda3\\envs\\lenet2\\lib\\site-packages\\tensorflow_core\\python\\keras\\engine\\training_arrays.py\u001b[0m in \u001b[0;36mfit\u001b[1;34m(self, model, x, y, batch_size, epochs, verbose, callbacks, validation_split, validation_data, shuffle, class_weight, sample_weight, initial_epoch, steps_per_epoch, validation_steps, validation_freq, **kwargs)\u001b[0m\n\u001b[0;32m    673\u001b[0m         \u001b[0mvalidation_steps\u001b[0m\u001b[1;33m=\u001b[0m\u001b[0mvalidation_steps\u001b[0m\u001b[1;33m,\u001b[0m\u001b[1;33m\u001b[0m\u001b[1;33m\u001b[0m\u001b[0m\n\u001b[0;32m    674\u001b[0m         \u001b[0mvalidation_freq\u001b[0m\u001b[1;33m=\u001b[0m\u001b[0mvalidation_freq\u001b[0m\u001b[1;33m,\u001b[0m\u001b[1;33m\u001b[0m\u001b[1;33m\u001b[0m\u001b[0m\n\u001b[1;32m--> 675\u001b[1;33m         steps_name='steps_per_epoch')\n\u001b[0m\u001b[0;32m    676\u001b[0m \u001b[1;33m\u001b[0m\u001b[0m\n\u001b[0;32m    677\u001b[0m   def evaluate(self,\n",
      "\u001b[1;32m~\\anaconda3\\envs\\lenet2\\lib\\site-packages\\tensorflow_core\\python\\keras\\engine\\training_arrays.py\u001b[0m in \u001b[0;36mmodel_iteration\u001b[1;34m(model, inputs, targets, sample_weights, batch_size, epochs, verbose, callbacks, val_inputs, val_targets, val_sample_weights, shuffle, initial_epoch, steps_per_epoch, validation_steps, validation_freq, mode, validation_in_fit, prepared_feed_values_from_dataset, steps_name, **kwargs)\u001b[0m\n\u001b[0;32m    298\u001b[0m           \u001b[1;32melse\u001b[0m\u001b[1;33m:\u001b[0m\u001b[1;33m\u001b[0m\u001b[1;33m\u001b[0m\u001b[0m\n\u001b[0;32m    299\u001b[0m             \u001b[0mactual_inputs\u001b[0m \u001b[1;33m=\u001b[0m \u001b[0mins\u001b[0m\u001b[1;33m(\u001b[0m\u001b[1;33m)\u001b[0m\u001b[1;33m\u001b[0m\u001b[1;33m\u001b[0m\u001b[0m\n\u001b[1;32m--> 300\u001b[1;33m           \u001b[0mbatch_outs\u001b[0m \u001b[1;33m=\u001b[0m \u001b[0mf\u001b[0m\u001b[1;33m(\u001b[0m\u001b[0mactual_inputs\u001b[0m\u001b[1;33m)\u001b[0m\u001b[1;33m\u001b[0m\u001b[1;33m\u001b[0m\u001b[0m\n\u001b[0m\u001b[0;32m    301\u001b[0m         \u001b[1;32mexcept\u001b[0m \u001b[0merrors\u001b[0m\u001b[1;33m.\u001b[0m\u001b[0mOutOfRangeError\u001b[0m\u001b[1;33m:\u001b[0m\u001b[1;33m\u001b[0m\u001b[1;33m\u001b[0m\u001b[0m\n\u001b[0;32m    302\u001b[0m           \u001b[1;32mif\u001b[0m \u001b[0mis_dataset\u001b[0m\u001b[1;33m:\u001b[0m\u001b[1;33m\u001b[0m\u001b[1;33m\u001b[0m\u001b[0m\n",
      "\u001b[1;32m~\\anaconda3\\envs\\lenet2\\lib\\site-packages\\tensorflow_core\\python\\keras\\backend.py\u001b[0m in \u001b[0;36m__call__\u001b[1;34m(self, inputs)\u001b[0m\n\u001b[0;32m   3474\u001b[0m \u001b[1;33m\u001b[0m\u001b[0m\n\u001b[0;32m   3475\u001b[0m     fetched = self._callable_fn(*array_vals,\n\u001b[1;32m-> 3476\u001b[1;33m                                 run_metadata=self.run_metadata)\n\u001b[0m\u001b[0;32m   3477\u001b[0m     \u001b[0mself\u001b[0m\u001b[1;33m.\u001b[0m\u001b[0m_call_fetch_callbacks\u001b[0m\u001b[1;33m(\u001b[0m\u001b[0mfetched\u001b[0m\u001b[1;33m[\u001b[0m\u001b[1;33m-\u001b[0m\u001b[0mlen\u001b[0m\u001b[1;33m(\u001b[0m\u001b[0mself\u001b[0m\u001b[1;33m.\u001b[0m\u001b[0m_fetches\u001b[0m\u001b[1;33m)\u001b[0m\u001b[1;33m:\u001b[0m\u001b[1;33m]\u001b[0m\u001b[1;33m)\u001b[0m\u001b[1;33m\u001b[0m\u001b[1;33m\u001b[0m\u001b[0m\n\u001b[0;32m   3478\u001b[0m     output_structure = nest.pack_sequence_as(\n",
      "\u001b[1;32m~\\anaconda3\\envs\\lenet2\\lib\\site-packages\\tensorflow_core\\python\\client\\session.py\u001b[0m in \u001b[0;36m__call__\u001b[1;34m(self, *args, **kwargs)\u001b[0m\n\u001b[0;32m   1470\u001b[0m         ret = tf_session.TF_SessionRunCallable(self._session._session,\n\u001b[0;32m   1471\u001b[0m                                                \u001b[0mself\u001b[0m\u001b[1;33m.\u001b[0m\u001b[0m_handle\u001b[0m\u001b[1;33m,\u001b[0m \u001b[0margs\u001b[0m\u001b[1;33m,\u001b[0m\u001b[1;33m\u001b[0m\u001b[1;33m\u001b[0m\u001b[0m\n\u001b[1;32m-> 1472\u001b[1;33m                                                run_metadata_ptr)\n\u001b[0m\u001b[0;32m   1473\u001b[0m         \u001b[1;32mif\u001b[0m \u001b[0mrun_metadata\u001b[0m\u001b[1;33m:\u001b[0m\u001b[1;33m\u001b[0m\u001b[1;33m\u001b[0m\u001b[0m\n\u001b[0;32m   1474\u001b[0m           \u001b[0mproto_data\u001b[0m \u001b[1;33m=\u001b[0m \u001b[0mtf_session\u001b[0m\u001b[1;33m.\u001b[0m\u001b[0mTF_GetBuffer\u001b[0m\u001b[1;33m(\u001b[0m\u001b[0mrun_metadata_ptr\u001b[0m\u001b[1;33m)\u001b[0m\u001b[1;33m\u001b[0m\u001b[1;33m\u001b[0m\u001b[0m\n",
      "\u001b[1;31mKeyboardInterrupt\u001b[0m: "
     ]
    }
   ],
   "source": []
  },
  {
   "cell_type": "code",
   "execution_count": 45,
   "metadata": {},
   "outputs": [
    {
     "data": {
      "image/png": "[encoded data removed]",
      "text/plain": [
       "<Figure size 432x288 with 1 Axes>"
      ]
     },
     "metadata": {
      "needs_background": "light"
     },
     "output_type": "display_data"
    },
    {
     "data": {
      "image/png": "[encoded data removed]",
      "text/plain": [
       "<Figure size 432x288 with 1 Axes>"
      ]
     },
     "metadata": {
      "needs_background": "light"
     },
     "output_type": "display_data"
    }
   ],
   "source": [
    "import matplotlib.pyplot as plt\n",
    "\n",
    "plt.plot(history.history['acc'])\n",
    "plt.plot(history.history['val_acc'])\n",
    "plt.title('Model Accuracy')\n",
    "plt.ylabel('Accuracy')\n",
    "plt.xlabel('Epochs')\n",
    "plt.legend(['Train', 'Test'], loc='upper left')\n",
    "plt.show()\n",
    "\n",
    "plt.plot(history.history['loss'])\n",
    "plt.plot(history.history['val_loss'])\n",
    "plt.title('Model Accuracy')\n",
    "plt.ylabel('Loss')\n",
    "plt.xlabel('Epochs')\n",
    "plt.legend(['Train', 'Test'], loc='upper left')\n",
    "plt.show()"
   ]
  },
  {
   "cell_type": "code",
   "execution_count": 46,
   "metadata": {},
   "outputs": [],
   "source": [
    "model.save('.\\minst_lenet.h5')"
   ]
  },
  {
   "cell_type": "code",
   "execution_count": 47,
   "metadata": {},
   "outputs": [],
   "source": [
    "from PIL import Image\n",
    "\n",
    "model = tf.keras.models.load_model('./minst_lenet.h5')"
   ]
  },
  {
   "cell_type": "code",
   "execution_count": 48,
   "metadata": {},
   "outputs": [
    {
     "data": {
      "image/png": "[encoded data removed]",
      "text/plain": [
       "<Figure size 72x72 with 1 Axes>"
      ]
     },
     "metadata": {
      "needs_background": "light"
     },
     "output_type": "display_data"
    }
   ],
   "source": [
    "import matplotlib.pyplot as plt\n",
    "img = Image.open('./test6.png')\n",
    "\n",
    "plt.figure(figsize=(1, 1))\n",
    "plt.imshow(img)\n",
    "plt.show()\n"
   ]
  },
  {
   "cell_type": "code",
   "execution_count": null,
   "metadata": {},
   "outputs": [],
   "source": [
    "img = np.array(img)\n",
    "img = np.dot(img[..., :3], [0.299, 0.587, 0.114])\n",
    "\n",
    "img = 255-img\n",
    "img = img/255.\n",
    "\n",
    "img = np.reshape(img,(1,28,28,1))\n",
    "\n",
    "model.predict(img)\n",
    "#print(np.argmax(model.predict(img)))\n"
   ]
  },
  {
   "cell_type": "code",
   "execution_count": null,
   "metadata": {},
   "outputs": [],
   "source": [
    "import glob\n",
    "import os\n",
    "file = glob.glob(os.path.join('./test/*.png'))\n",
    "for f in file:\n",
    "    img = Image.open(f)\n",
    "    plt.figure(figsize=(1, 1))\n",
    "    plt.imshow(img)\n",
    "    plt.show()\n",
    "    img = np.array(img)\n",
    "    img = np.dot(img[..., :3], [0.299, 0.587, 0.114])\n",
    "    img = 255-img\n",
    "    img = img/255.\n",
    "    img = np.reshape(img,(1,28,28,1))\n",
    "    model.predict(img)\n",
    "    print(np.argmax(model.predict(img)))\n",
    "    print('--------------------------------------------------')"
   ]
  },
  {
   "cell_type": "code",
   "execution_count": 13,
   "metadata": {},
   "outputs": [
    {
     "name": "stdout",
     "output_type": "stream",
     "text": [
      "['test0.png', 'test1.png', 'test2.png', 'test3.png', 'test4.png', 'test5.png', 'test6.png', 'test7.png', 'test8.png', 'test9.png']\n"
     ]
    }
   ],
   "source": [
    "file = glob.glob(os.path.join('*.png'))\n",
    "print(file)"
   ]
  },
  {
   "cell_type": "code",
   "execution_count": null,
   "metadata": {},
   "outputs": [],
   "source": []
  },
  {
   "cell_type": "code",
   "execution_count": null,
   "metadata": {},
   "outputs": [],
   "source": []
  }
 ],
 "metadata": {
  "kernelspec": {
   "display_name": "Python 3",
   "language": "python",
   "name": "python3"
  },
  "language_info": {
   "codemirror_mode": {
    "name": "ipython",
    "version": 3
   },
   "file_extension": ".py",
   "mimetype": "text/x-python",
   "name": "python",
   "nbconvert_exporter": "python",
   "pygments_lexer": "ipython3",
   "version": "3.7.7"
  }
 },
 "nbformat": 4,
 "nbformat_minor": 4
}
