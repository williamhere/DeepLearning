{
 "cells": [
  {
   "cell_type": "code",
   "execution_count": 46,
   "id": "65b68650-4ce3-4ada-ba98-5a51651a1141",
   "metadata": {},
   "outputs": [
    {
     "data": {
      "text/plain": [
       "'2.0.0'"
      ]
     },
     "execution_count": 46,
     "metadata": {},
     "output_type": "execute_result"
    }
   ],
   "source": [
    "import tensorflow as tf\n",
    "import numpy as np\n",
    "import glob\n",
    "tf.__version__"
   ]
  },
  {
   "cell_type": "code",
   "execution_count": 47,
   "id": "428abd97-c338-4998-99c8-1c09be94ee96",
   "metadata": {},
   "outputs": [],
   "source": [
    "IMAGE_SIZE = 28"
   ]
  },
  {
   "cell_type": "code",
   "execution_count": 48,
   "id": "4de3226b-2e3a-4a60-9a9c-a907f55c5306",
   "metadata": {},
   "outputs": [],
   "source": [
    "def color_preprocessing(x_train,x_test):\n",
    "    x_train = x_train.astype('float32')\n",
    "    x_test = x_test.astype('float32')\n",
    "    x_train = x_train/255.\n",
    "    x_test = x_test/255.\n",
    "    return x_train,x_test"
   ]
  },
  {
   "cell_type": "code",
   "execution_count": 49,
   "id": "89e2dc6c-d6c8-4881-9912-305be9f8be64",
   "metadata": {},
   "outputs": [],
   "source": [
    "(x_train,y_train),(x_test,y_test) = tf.keras.datasets.mnist.load_data()\n",
    "y_train = tf.keras.utils.to_categorical(y_train,10)\n",
    "y_test = tf.keras.utils.to_categorical(y_test,10)\n",
    "x_train,x_test = color_preprocessing(x_train,y_train)"
   ]
  },
  {
   "cell_type": "code",
   "execution_count": 50,
   "id": "38959488-5f4b-4bab-a2a5-fd667e8b7f93",
   "metadata": {},
   "outputs": [],
   "source": [
    "x_train = np.reshape(x_train,(x_train.shape[0],x_train.shape[1],x_train.shape[2],1))"
   ]
  },
  {
   "cell_type": "code",
   "execution_count": 51,
   "id": "d43c94be-496a-49ef-9c3b-25a757c58416",
   "metadata": {},
   "outputs": [],
   "source": [
    "def representative_data_gen():\n",
    "    \n",
    "    dataset_list_index=np.random.choice(range(50000),100)\n",
    "    for i in range(100):\n",
    "        image = x_train[dataset_list_index[i]]\n",
    "        image = tf.image.resize(image,[IMAGE_SIZE, IMAGE_SIZE])\n",
    "        image = tf.cast(image,tf.float32)\n",
    "        image = tf.expand_dims(image,0)\n",
    "        #with tf.Session() as sess:     #tf2註解\n",
    "            #image = sess.run(image)    #tf2註解\n",
    "        yield [image]"
   ]
  },
  {
   "cell_type": "code",
   "execution_count": 52,
   "id": "7f402bf5-4333-4120-9c4f-86792dddc118",
   "metadata": {},
   "outputs": [],
   "source": [
    "keras_model = tf.keras.models.load_model(\"./mnist_lenet.h5\")\n",
    "converter = tf.lite.TFLiteConverter.from_keras_model(keras_model)\n",
    "converter.optimizations = [tf.lite.Optimize.DEFAULT]\n",
    "converter.target_spec.supported_ops = [tf.lite.OpsSet.TFLITE_BUILTINS_INT8]\n",
    "converter.inference_input_type = tf.uint8 \n",
    "converter.inference_output_type = tf.uint8\n",
    "converter.representative_dataset = representative_data_gen \n",
    "tflite_model = converter.convert()"
   ]
  },
  {
   "cell_type": "code",
   "execution_count": 53,
   "id": "71709be7-8a80-4a96-b6c2-2dd4246d495f",
   "metadata": {},
   "outputs": [],
   "source": [
    "with open('mnist115.tflite','wb') as f:\n",
    "    f.write(tflite_model)"
   ]
  },
  {
   "cell_type": "code",
   "execution_count": null,
   "id": "ea91367c-f55c-45bd-b388-d818e76ceb5b",
   "metadata": {},
   "outputs": [],
   "source": []
  }
 ],
 "metadata": {
  "kernelspec": {
   "display_name": "Python 3 (ipykernel)",
   "language": "python",
   "name": "python3"
  },
  "language_info": {
   "codemirror_mode": {
    "name": "ipython",
    "version": 3
   },
   "file_extension": ".py",
   "mimetype": "text/x-python",
   "name": "python",
   "nbconvert_exporter": "python",
   "pygments_lexer": "ipython3",
   "version": "3.7.13"
  }
 },
 "nbformat": 4,
 "nbformat_minor": 5
}
