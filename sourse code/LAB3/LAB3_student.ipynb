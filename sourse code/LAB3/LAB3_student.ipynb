{
 "cells": [
  {
   "cell_type": "code",
   "execution_count": null,
   "id": "2bbb587a-9fa9-4e8d-b3ed-8d618032827c",
   "metadata": {},
   "outputs": [],
   "source": [
    "import tensorflow as tf\n",
    "tf.__version__"
   ]
  },
  {
   "cell_type": "code",
   "execution_count": null,
   "id": "2b0460da-2e54-4f20-81f8-e3abd9281ab7",
   "metadata": {},
   "outputs": [],
   "source": [
    "from sklearn import datasets\n",
    "from sklearn.model_selection import train_test_split\n",
    "import numpy as np"
   ]
  },
  {
   "cell_type": "code",
   "execution_count": null,
   "id": "608c92dc-a508-423a-b24f-e6fc5bc31732",
   "metadata": {},
   "outputs": [],
   "source": [
    "iris = datasets.load_iris()\n",
    "X = iris.data\n",
    "Y = iris.target"
   ]
  },
  {
   "cell_type": "code",
   "execution_count": null,
   "id": "8918371f-190f-41a9-b453-50cdb0b7bcf4",
   "metadata": {
    "scrolled": true,
    "tags": []
   },
   "outputs": [],
   "source": [
    "dataset = []\n",
    "for index, x in enumerate(X):\n",
    "    x = [x[0],x[1],x[2],x[3]]\n",
    "    dataset.append((x))\n",
    "dataset = np.array(dataset)\n",
    "X_train,X_test,y_train,y_test = train_test_split(dataset,Y,test_size=0.3,random_state=0)"
   ]
  },
  {
   "cell_type": "code",
   "execution_count": null,
   "id": "8cd898b9-61d5-4665-bb18-c9e09eda9883",
   "metadata": {},
   "outputs": [],
   "source": [
    "y_train = tf.keras.utils.to_categorical(y_train,3)\n",
    "y_test = tf.keras.utils.to_categorical(y_test,3)"
   ]
  },
  {
   "cell_type": "code",
   "execution_count": null,
   "id": "de40289e-50f2-4ebe-86b9-de8ae810b919",
   "metadata": {},
   "outputs": [],
   "source": [
    "def mlp(x):\n"
   ]
  },
  {
   "cell_type": "code",
   "execution_count": null,
   "id": "75ef6d31-7dd2-4d82-898f-e9fb25347d84",
   "metadata": {
    "scrolled": true,
    "tags": []
   },
   "outputs": [],
   "source": []
  },
  {
   "cell_type": "code",
   "execution_count": null,
   "id": "480dc2e5-e42e-49b0-ae98-73edf2d83405",
   "metadata": {},
   "outputs": [],
   "source": [
    "import matplotlib.pyplot as plt\n",
    "\n",
    "plt.plot(history.history['loss'])\n",
    "plt.plot(history.history['val_loss'])\n",
    "plt.title('Model loss')\n",
    "plt.ylabel('Loss')\n",
    "plt.xlabel('Epoch')\n",
    "plt.legend(['Train','Test'],loc='upper left')\n",
    "plt.show()"
   ]
  },
  {
   "cell_type": "code",
   "execution_count": null,
   "id": "a5d0ccb8-00f9-4a28-ad9c-fe2e9f000eda",
   "metadata": {},
   "outputs": [],
   "source": [
    "plt.plot(history.history['lr'])\n",
    "plt.title('Model lr')\n",
    "plt.ylabel('lr')\n",
    "plt.xlabel('Epoch')\n",
    "plt.legend(['lr'],loc='upper left')\n",
    "plt.show()"
   ]
  },
  {
   "cell_type": "code",
   "execution_count": null,
   "id": "de3d57c9-b7bb-401d-afd4-3d48bee17b26",
   "metadata": {},
   "outputs": [],
   "source": [
    "import numpy as np\n",
    "XX=[[5.4,3.9,1.7,0.4]]  #自己假定4個特徵以進行預測\n",
    "XX=np.array(XX)\n",
    "print(XX)\n",
    "print(\"-----------------------------\")\n",
    "print(\"XX資料預測為各類別機率如下:\")\n",
    "print(model.predict(XX))\n",
    "print(\"-----------------------------\")\n",
    "print(\"XX資料預測類別如下:\")\n",
    "print(np.argmax(model.predict(XX)))\n",
    "print(\"-----------------------------\")"
   ]
  },
  {
   "cell_type": "code",
   "execution_count": null,
   "id": "923ae74e-3ef8-4fc9-a6fb-0493cb2b535a",
   "metadata": {},
   "outputs": [],
   "source": [
    "pred = np.argmax(model.predict(XX))\n",
    "\n",
    "if pred==0:\n",
    "    print(\"XX資料預測類別 : \",\"Iris Setora\")\n",
    "elif pred==1:\n",
    "    print(\"XX資料預測類別 : \",\"Iris Versicolour\")\n",
    "elif pred==2:\n",
    "    print(\"XX資料預測類別 : \",\"Iris Virginica\")\n",
    "else:\n",
    "    print(\"ERROR!\")"
   ]
  },
  {
   "cell_type": "code",
   "execution_count": null,
   "id": "28bd2adf-7bf1-4e07-a17f-15b3ef61a363",
   "metadata": {},
   "outputs": [],
   "source": []
  }
 ],
 "metadata": {
  "kernelspec": {
   "display_name": "Python 3",
   "language": "python",
   "name": "python3"
  },
  "language_info": {
   "codemirror_mode": {
    "name": "ipython",
    "version": 3
   },
   "file_extension": ".py",
   "mimetype": "text/x-python",
   "name": "python",
   "nbconvert_exporter": "python",
   "pygments_lexer": "ipython3",
   "version": "3.8.8"
  }
 },
 "nbformat": 4,
 "nbformat_minor": 5
}
